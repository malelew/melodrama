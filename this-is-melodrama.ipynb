{
 "cells": [
  {
   "cell_type": "markdown",
   "metadata": {},
   "source": [
    "# Lorde - Melodrama Project"
   ]
  },
  {
   "cell_type": "code",
   "execution_count": 1,
   "metadata": {
    "collapsed": true
   },
   "outputs": [],
   "source": [
    "import bearer\n",
    "import requests\n",
    "from bs4 import BeautifulSoup"
   ]
  },
  {
   "cell_type": "code",
   "execution_count": 2,
   "metadata": {
    "collapsed": true
   },
   "outputs": [],
   "source": [
    "base_url = \"https://api.genius.com\"\n",
    "headers = {'Authorization': bearer.TOKEN}"
   ]
  },
  {
   "cell_type": "code",
   "execution_count": 3,
   "metadata": {
    "collapsed": true
   },
   "outputs": [],
   "source": [
    "def lyrics_from_song_api_path(song_api_path):\n",
    "  song_url = base_url + song_api_path\n",
    "  response = requests.get(song_url, headers=headers)\n",
    "  json = response.json()\n",
    "  path = json[\"response\"][\"song\"][\"path\"]\n",
    "  #gotta go regular html scraping... come on Genius\n",
    "  page_url = \"http://genius.com\" + path\n",
    "  page = requests.get(page_url)\n",
    "  html = BeautifulSoup(page.text, \"html.parser\")\n",
    "  #remove script tags that they put in the middle of the lyrics\n",
    "  [h.extract() for h in html('script')]\n",
    "  #at least Genius is nice and has a tag called 'lyrics'!\n",
    "  lyrics = html.find(\"div\", class_='lyrics').get_text() #updated css where the lyrics are based in HTML\n",
    "  return lyrics"
   ]
  },
  {
   "cell_type": "code",
   "execution_count": 4,
   "metadata": {
    "collapsed": true
   },
   "outputs": [],
   "source": [
    "album_url = 'https://genius.com/albums/Lorde/Melodrama'\n",
    "artist_name = 'Lorde'"
   ]
  },
  {
   "cell_type": "code",
   "execution_count": 6,
   "metadata": {},
   "outputs": [
    {
     "data": {
      "text/plain": [
       "[u'Green Light',\n",
       " u'Sober',\n",
       " u'Homemade Dynamite',\n",
       " u'The Louvre',\n",
       " u'Liability',\n",
       " u'Hard Feelings/Loveless',\n",
       " u'Sober II (Melodrama)',\n",
       " u'Writer in the Dark',\n",
       " u'Supercut',\n",
       " u'Liability (Reprise)',\n",
       " u'Perfect Places']"
      ]
     },
     "execution_count": 6,
     "metadata": {},
     "output_type": "execute_result"
    }
   ],
   "source": [
    "page = requests.get(album_url)\n",
    "track_soup = BeautifulSoup(page.text, 'lxml')\n",
    "tracks = [i.get_text('*', strip=True) for i in track_soup.find_all('h3', class_='chart_row-content-title')]\n",
    "tracks = tracks[:len(tracks)-1]\n",
    "for i in range(len(tracks)):\n",
    "  tracks[i] = tracks[i].split('*')[0]\n",
    "tracks"
   ]
  },
  {
   "cell_type": "code",
   "execution_count": 7,
   "metadata": {
    "collapsed": true
   },
   "outputs": [],
   "source": [
    "search_url = base_url + \"/search\"\n",
    "album_lyrics = {}\n",
    "for song_title in tracks:\n",
    "  data = {'q': song_title}\n",
    "  response = requests.get(search_url, data=data, headers=headers)\n",
    "  json = response.json()\n",
    "  song_info = None\n",
    "  for hit in json[\"response\"][\"hits\"]:\n",
    "    if hit[\"result\"][\"primary_artist\"][\"name\"] == artist_name:\n",
    "      song_info = hit\n",
    "      break\n",
    "  if song_info:\n",
    "    song_api_path = song_info[\"result\"][\"api_path\"]\n",
    "    album_lyrics[song_title] = lyrics_from_song_api_path(song_api_path)"
   ]
  },
  {
   "cell_type": "code",
   "execution_count": 25,
   "metadata": {
    "collapsed": true
   },
   "outputs": [],
   "source": [
    "# This is will create a local instance of the PyDictionary class and now it can be used to get meanings, translations etc.\n",
    "from PyDictionary import PyDictionary\n",
    "dictionary=PyDictionary()"
   ]
  },
  {
   "cell_type": "code",
   "execution_count": 12,
   "metadata": {
    "collapsed": true
   },
   "outputs": [],
   "source": [
    "# sort each lyric into their parts of speech\n",
    "parts_of_speech = {}"
   ]
  },
  {
   "cell_type": "code",
   "execution_count": 24,
   "metadata": {},
   "outputs": [],
   "source": [
    "for i in album_lyrics.keys():\n",
    "  album_lyrics[i] = album_lyrics[i].split()"
   ]
  },
  {
   "cell_type": "code",
   "execution_count": 21,
   "metadata": {},
   "outputs": [],
   "source": [
    "# filter by part of speech\n",
    "for i in album_lyrics.keys():\n",
    "  for j in album_lyrics[i]:\n",
    "      "
   ]
  },
  {
   "cell_type": "code",
   "execution_count": null,
   "metadata": {
    "collapsed": true
   },
   "outputs": [],
   "source": []
  }
 ],
 "metadata": {
  "kernelspec": {
   "display_name": "Python 2",
   "language": "python",
   "name": "python2"
  },
  "language_info": {
   "codemirror_mode": {
    "name": "ipython",
    "version": 2
   },
   "file_extension": ".py",
   "mimetype": "text/x-python",
   "name": "python",
   "nbconvert_exporter": "python",
   "pygments_lexer": "ipython2",
   "version": "2.7.13"
  }
 },
 "nbformat": 4,
 "nbformat_minor": 2
}
