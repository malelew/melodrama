{
 "cells": [
  {
   "cell_type": "markdown",
   "metadata": {},
   "source": [
    "# Lorde - Melodrama Project"
   ]
  },
  {
   "cell_type": "code",
   "execution_count": null,
   "metadata": {
    "collapsed": true
   },
   "outputs": [],
   "source": [
    "import bearer\n",
    "import requests\n",
    "from bs4 import BeautifulSoup"
   ]
  },
  {
   "cell_type": "code",
   "execution_count": null,
   "metadata": {},
   "outputs": [],
   "source": [
    "base_url = \"https://api.genius.com\"\n",
    "headers = {'Authorization': bearer.TOKEN}"
   ]
  },
  {
   "cell_type": "code",
   "execution_count": null,
   "metadata": {
    "collapsed": true
   },
   "outputs": [],
   "source": [
    "def lyrics_from_song_api_path(song_api_path):\n",
    "  song_url = base_url + song_api_path\n",
    "  response = requests.get(song_url, headers=headers)\n",
    "  json = response.json()\n",
    "  path = json[\"response\"][\"song\"][\"path\"]\n",
    "  #gotta go regular html scraping... come on Genius\n",
    "  page_url = \"http://genius.com\" + path\n",
    "  page = requests.get(page_url)\n",
    "  html = BeautifulSoup(page.text, \"html.parser\")\n",
    "  #remove script tags that they put in the middle of the lyrics\n",
    "  [h.extract() for h in html('script')]\n",
    "  #at least Genius is nice and has a tag called 'lyrics'!\n",
    "  lyrics = html.find(\"div\", class_='lyrics').get_text() #updated css where the lyrics are based in HTML\n",
    "  return lyrics"
   ]
  },
  {
   "cell_type": "code",
   "execution_count": 51,
   "metadata": {
    "collapsed": true
   },
   "outputs": [],
   "source": [
    "album_url = 'https://genius.com/albums/Lorde/Melodrama'\n",
    "artist_name = 'Lorde'"
   ]
  },
  {
   "cell_type": "code",
   "execution_count": 52,
   "metadata": {},
   "outputs": [
    {
     "data": {
      "text/plain": [
       "[u'Green Light',\n",
       " u'Sober',\n",
       " u'Homemade Dynamite',\n",
       " u'The Louvre',\n",
       " u'Liability',\n",
       " u'Hard Feelings/Loveless',\n",
       " u'Sober II (Melodrama)',\n",
       " u'Writer in the Dark',\n",
       " u'Supercut',\n",
       " u'Liability (Reprise)',\n",
       " u'Perfect Places']"
      ]
     },
     "execution_count": 52,
     "metadata": {},
     "output_type": "execute_result"
    }
   ],
   "source": [
    "page = requests.get(album_url)\n",
    "track_soup = BeautifulSoup(page.text)\n",
    "tracks = [i.get_text('*', strip=True) for i in track_soup.find_all('h3', class_='chart_row-content-title')]\n",
    "tracks = tracks[:len(tracks)-1]\n",
    "for i in range(len(tracks)):\n",
    "  tracks[i] = tracks[i].split('*')[0]\n",
    "tracks"
   ]
  },
  {
   "cell_type": "code",
   "execution_count": 57,
   "metadata": {},
   "outputs": [],
   "source": [
    "search_url = base_url + \"/search\"\n",
    "album_lyrics = {}\n",
    "for song_title in tracks:\n",
    "  data = {'q': song_title}\n",
    "  response = requests.get(search_url, data=data, headers=headers)\n",
    "  json = response.json()\n",
    "  song_info = None\n",
    "  for hit in json[\"response\"][\"hits\"]:\n",
    "    if hit[\"result\"][\"primary_artist\"][\"name\"] == artist_name:\n",
    "      song_info = hit\n",
    "      break\n",
    "  if song_info:\n",
    "    song_api_path = song_info[\"result\"][\"api_path\"]\n",
    "    album_lyrics[song_title] = lyrics_from_song_api_path(song_api_path)"
   ]
  },
  {
   "cell_type": "code",
   "execution_count": 58,
   "metadata": {},
   "outputs": [
    {
     "data": {
      "text/plain": [
       "{u'Green Light': u\"\\n\\n[Verse 1]\\nI do my makeup in somebody else's car\\nWe order different drinks at the same bars\\nI know about what you did and I wanna scream the truth\\nShe thinks you love the beach, you're such a damn liar\\n\\n[Refrain]\\nWell those great whites, they have big teeth\\nHope they bite you\\nThought you said that you would always be in love\\nBut you're not in love no more\\nDid it frighten you\\nHow we kissed when we danced on the light up floor?\\nOn the light up floor\\n\\n[Pre-Chorus]\\nBut I hear sounds in my mind\\nBrand new sounds in my mind\\nBut honey I'll be seein' you wherever I go\\nBut honey I'll be seein' you down every road\\nI'm waiting for it, that green light, I want it\\n\\n[Chorus]\\n'Cause honey I'll come get my things, but I can't let go\\nI'm waiting for it, that green light, I want it\\nOh, I wish I could get my things and just let go\\nI'm waiting for it, that green light, I want it\\n\\n[Verse 2]\\nSometimes I wake up in a different bedroom\\nI whisper things, the city sings 'em back to you\\n\\n[Refrain]\\nWell those rumors, they have big teeth\\nHope they bite you\\nThought you said that you would always be in love\\nBut you're not in love no more\\nDid it frighten you\\nHow we kissed when we danced on the light up floor?\\nOn the light up floor\\n\\n[Pre-Chorus]\\nBut I hear sounds in my mind\\nBrand new sounds in my mind\\nBut honey I'll be seein' you wherever I go\\nBut honey I'll be seein' you down every road\\nI'm waiting for it, that green light, I want it\\n\\n[Chorus]\\n'Cause honey I'll come get my things, but I can't let go\\nI'm waiting for it, that green light, I want it\\nOh, honey I'll come get my things, but I can't let go\\nI'm waiting for it, that green light, I want it\\nYes, honey I'll come get my things, but I can't let go\\nI'm waiting for it, that green light, I want it\\nOh, I wish I could get my things and just let go\\nI'm waiting for it, that green light, I want it\\n\\n[Outro]\\nI'm waiting for it, that green light, I want it\\nI'm waiting for it, that green light, I want it\\nI'm waiting for it, that green light, I want it\\nI'm waiting for it, that green light, I want it\\nI'm waiting for it, that green light, I want it\\nI'm waiting for it, that green light, I want it\\n\\n\",\n",
       " u'Hard Feelings/Loveless': u\"\\n\\nHard Feelings\\n\\n(Go back and tell it)\\n\\nPlease could you be tender\\nAnd I will sit close to you\\nLet\\u2019s give it a minute before we admit that we\\u2019re through\\nGuess this is the winter\\nOur bodies are young and blue\\nI\\u2019m at Jungle City, it\\u2019s late and this song is for you\\n\\nCause I remember the rush, when forever was us\\nBefore all of the winds of regret and mistrust\\nNow we sit in your car and our love is a ghost\\nWell I guess I should go\\nYeah I guess I should go\\n\\nHard feelings\\u2014\\nThese are what they call hard feelings of love\\nWhen the sweet words and fevers all leave us right here in the cold\\nAlone with the hard feelings of love\\nGod I wish I believed ya when you told me this was my home\\n\\nI light all the candles\\nCut flowers for all my rooms\\nI care for myself the way I used to care about you\\nThese days, we kiss and we keep busy\\nThe waves come after midnight\\nI call from underwater\\nWhy even try to get right?\\nWhen you\\u2019ve outgrown a lover\\nThe whole world knows but you\\nIt\\u2019s time to let go of this endless summer afternoon\\n\\nThree years, loved you every single day, made me weak, it was real for me, yup, real for me\\nNow I'll fake it every single day 'til I don\\u2019t need fantasy, 'til I feel you leave\\nBut I still remember everything, how we\\u2019d drift buying groceries, how you\\u2019d dance for me\\nI\\u2019ll start letting go of little things 'til I\\u2019m so far away from you, far away from you, yeah\\nLoveless\\n\\n\\u201cWhat is this tape?\\u201d\\n\\u201cThis is my favorite tape\\u201d\\nBet you wanna rip my heart out\\nBet you wanna skip my calls now\\nWell guess what? I like that\\n\\u2018Cause I\\u2019m gonna mess your life up\\nGonna wanna tape my mouth shut\\nLook out, lovers\\n\\nWe\\u2019re L.O.V.E.L.E.S.S\\nGeneration\\nL.O.V.E.L.E.S.S\\nGeneration\\nAll fuckin' with our lover\\u2019s heads\\nGeneration\\n\\nBet you wanna rip my heart out\\nBet you wanna skip my calls now\\nWell guess what? I like that\\n\\u2018Cause I\\u2019m gonna mess your life up\\nGonna wanna tape my mouth shut\\nLook out, lovers\\n\\nWe\\u2019re L.O.V.E.L.E.S.S\\nGeneration\\nL.O.V.E.L.E.S.S. (look out, lovers)\\nGeneration\\nAll fuckin' with our lover\\u2019s heads\\nGeneration (look out, lovers)\\n\\nL.O.V.E.L.E.S.S\\nGeneration\\nL.O.V.E.L.E.S.S\\nGeneration\\nL.O.V.E.L.E.S.S\\nGeneration\\nL.O.V.E.L.E.S.S\\nGeneration\\nL.O.V.E.L.E.S.S\\n\\n\",\n",
       " u'Homemade Dynamite': u\"\\n\\n[Verse 1]\\nA couple rebel top gun pilots\\nFlying with nowhere to be\\nDon't know you super well\\nBut I think that you might be the same as me\\nBehave abnormally\\n\\n[Pre-Chorus]\\nLet's let things come out of the woodwork\\nI'll give you my best side, tell you all my best lies\\nYeah, awesome right?\\nSo let's let things come out of the woodwork\\nI'll give you my best side, tell you all my best lines\\nSeeing me rolling, showing someone else love\\nDancing with our shoes off\\nKnow I think you're awesome, right?\\n\\n[Chorus]\\nOur rules, our dreams, we're blind\\nBlowing shit up with homemade d-d-d-dynamite\\nOur friends, our drinks, we get inspired\\nBlowing shit up with homemade d-d-d-dynamite\\nBlowing shit up with homemade d-d-d-dynamite\\n\\n[Verse 2]\\nMight get your friend to drive, but he can hardly see\\nWe'll end up painted on the road\\nRed and chrome\\nAll the broken glass sparkling\\nI guess we're partying\\n\\n[Pre-Chorus]\\nSo let's let things come out of the woodwork\\nI'll give you my best side, tell you all my best lies\\nSeeing me rolling, showing someone else love\\nHands under your t-shirt\\nKnow I think you're awesome, right?\\n\\n[Chorus]\\nOur rules, our dreams, we're blind\\nBlowing shit up with homemade d-d-d-dynamite\\nOur friends, our drinks, we get inspired\\nBlowing shit up with homemade d-d-d-dynamite\\nBlowing shit up with homemade d-d-d-dynamite\\nNow you know it's really gonna blow\\n\\nOur rules, our dreams, we're blind\\nBlowing shit up with homemade d-d-d-dynamite\\nOur friends, our drinks, we get inspired\\nBlowing shit up with homemade d-d-d-dynamite\\nBlowing shit up with homemade d-d-d-dynamite\\nBlowing shit up with homemade d-d-d-dynamite\\n\\n[Outro]\\nOur friends, our drinks, we get inspired\\nBlowing shit up with homemade d-d-d-dynamite\\nOur friends, our drinks, we get inspired\\nBlowing shit up with homemade d-d-d-dynamite\\n\\n\",\n",
       " u'Liability': u'\\n\\n[Intro]\\nOne, two\\n\\n[Verse 1]\\nBaby really hurt me, crying in the taxi\\nHe don\\'t wanna know me\\nSays he made the big mistake of dancing in my storm\\nSays it was poison\\nSo I guess I\\'ll go home into the arms of the girl that I love\\nThe only love I haven\\'t screwed up\\nShe\\'s so hard to please but she\\'s a forest fire\\nI do my best to meet her demands, play at romance\\nWe slow dance in the living room, but all that a stranger would see\\nIs one girl swaying alone, stroking her cheek\\n\\n[Chorus]\\nThey say, \"You\\'re a little much for me, you\\'re a liability\\nYou\\'re a little much for me\"\\nSo they pull back, make other plans\\nI understand, I\\'m a liability\\nGet you wild, make you leave\\nI\\'m a little much for e-a-na-na-na, everyone\\n\\n[Verse 2]\\nThe truth is I am a toy that people enjoy\\n\\'Til all of the tricks don\\'t work anymore\\nAnd then they are bored of me\\nI know that it\\'s exciting running through the night\\nBut every perfect summer\\'s eating me alive until you\\'re gone\\nBetter on my own\\n\\n[Chorus]\\nThey say, \"You\\'re a little much for me, you\\'re a liability\\nYou\\'re a little much for me\"\\nSo they pull back, make other plans\\nI understand, I\\'m a liability\\nGet you wild, make you leave\\nI\\'m a little much for e-a-na-na-na, everyone\\n\\n[Outro]\\nThey\\'re gonna watch me disappear into the sun\\nYou\\'re all gonna watch me disappear into the sun\\n\\n',\n",
       " u'Liability (Reprise)': u\"\\n\\nI'm a liability\\nI'm a liability\\nMuch for me\\nYou're a little much for me, no no no no...\\nWhatcha gonna do?\\nAll of the dreams that get harder\\nAll of the things that I offer you\\nAnd all of the shit that we harbour\\nMake all of the kids in the choirs sing woo-hoo\\nMaybe all this is the party\\nMaybe the tears and the highs we breathe\\nMaybe all this is the party\\nMaybe we just do it violently\\n\\nBut you're not what you thought you were\\nBut you're not what you thought you were\\nLiability\\nBut you're not what you thought you were\\nMuch for me\\nBut you're not what you thought you were\\n\\nYou leave\\n\\n\",\n",
       " u'Perfect Places': u\"\\n\\n[Verse 1]\\nEvery night, I live and die\\nFeel the party to my bones\\nWatch the wasters blow the speakers\\nSpill my guts beneath the outdoor light\\nIt's just another graceless night\\nI hate the headlines and the weather\\nI'm 19 and I'm on fire\\nBut when we're dancing I'm alright\\nIt's just another graceless night\\n\\n[Pre-Chorus]\\nAre you lost enough?\\nHave another drink, get lost in us\\nThis is how we get notorious, oh\\n'Cause I don't know\\nIf they keep tellin' me where to go\\nI'll blow my brains out to the radio, oh\\n\\n[Chorus]\\nAll of the things we're taking\\n'Cause we are young and we're ashamed\\nSend us to perfect places\\nAll of our heroes fading\\nNow I can't stand to be alone\\nLet's go to perfect places\\n\\n[Verse 2]\\nEvery night, I live and die\\nMeet somebody, take 'em home\\nLet's kiss and then take off our clothes\\nIt's just another graceless night\\n\\n[Chorus]\\nAll of the things we're taking\\n'Cause we are young and we're ashamed\\nSend us to perfect places\\nAll of our heroes fading\\nNow I can't stand to be alone\\nLet's go to perfect places\\n\\n[Outro]\\nAll the nights spent off our faces\\nTrying to find these perfect places\\nWhat the fuck are perfect places anyway?\\nAll the nights spent off our faces\\nTrying to find these perfect places\\nWhat the fuck are perfect places anyway?\\nAll the nights spent off our faces\\nTrying to find these perfect places\\nWhat the fuck are perfect places anyway?\\n\\n\",\n",
       " u'Sober': u\"\\n\\n[Intro]\\nNight, midnight, lose my mind\\nNight, midnight, lose my mind\\nNight, midnight, lose my mind\\n(When you get to my high, when you get to my)\\nNight, midnight\\n\\n[Verse 1]\\nOh, God, I'm clean out of air in my lungs\\nIt's all gone\\nPlayed it so nonchalant\\nIt's time we danced with the truth\\nMove alone with the truth\\nOoh (hey)\\nWe're sleeping through all the days\\nI'm acting like I don't see\\nEvery ribbon you used to tie yourself to me\\n\\n[Pre-Chorus]\\nBut my hips have missed your hips\\nSo, let's get to know the kicks\\nWill you sway with me?\\nGo astray with me?\\n(Ah ha)\\n\\n[Chorus]\\nWe're King and Queen of the weekend\\nAin't a pill that could touch our rush\\n(But what will we do when we're sober?)\\nWhen you dream with a fever\\nBet you wish you could touch our rush\\n(But what will we do when we're sober?)\\nThese are the games of the weekend\\nWe pretend that we just don't care\\nBut we care\\n(But what will we do when we're sober?)\\nWhen you dream with a fever\\nBet you wish you could touch our rush\\n(But what will we do when we're sober?)\\n\\n[Verse 2]\\nOh, God, I'm closing my teeth\\nAround this liquor-wet lime\\nMidnight, lose my mind\\nI know you're feeling it too\\nCan we keep up with the ruse?\\nAh ah (hey)\\nB-bodies all through my house\\nI know this story by heart:\\nJack and Jill get fucked up and possessive\\nWhen it get dark\\n\\n[Pre-Chorus]\\nBut my hips have missed your hips\\nSo, let's get to know the kicks\\nWill you sway with me?\\nGo astray with me?\\n(Ah ha)\\n\\n[Chorus]\\nWe're King and Queen of the Weekend\\nAin't a pill that could touch our rush\\n(But what will we do when we're sober?)\\nWhen you dream with a fever\\nBet you wish you could touch our rush\\n(But what will we do when we're sober?)\\nThese are the games of the weekend\\nWe pretend that we just don't care\\nBut we care\\n(But what will we do when we're sober?)\\nWhen you dream with a fever\\nBet you wish you could touch our rush\\n(But what will we do when we're sober?)\\n\\n[Bridge]\\nMidnight, we're fading\\n'Til daylight, we're jaded\\nWe know that it's over\\nIn the morning, you'll be dancing with all the heartache\\nAnd the treason, the fantasies of leaving\\nBut we know that, when it's over\\nIn the morning, you'll be dancing with us\\n(Midnight, lose my mind, midnight, lose my mind)\\nOh, dancing with us\\n(But what will we do when we're sober?)\\nOh, you'll be dancing with us\\n(Can you feel it? Can you feel it?)\\nDancing with us, us\\n(But what will we do when we're sober?)\\nUs\\n\\n[Outro]\\nWhen you get to my high (midnight, lose my mind)\\nWhen you get to my (midnight, lose my mind)\\n\\n\",\n",
       " u'Sober II (Melodrama)': u\"\\n\\nYou asked if I was feeling it, I\\u2019m psycho high\\nKnow you won\\u2019t remember in the morning when\\nI speak my mind\\nLights are on and they\\u2019ve gone home, but who am I?\\nOh, how fast the evening passes, cleaning up\\nThe champagne glasses\\n\\nWe told you this was melodrama\\n(Oh, how fast the evening passes\\nCleaning up the champagne glasses)\\nOur only wish is melodrama\\n(Oh, how fast the evening passes\\nCleaning up the champagne glasses)\\n\\nAnd the terror\\nAnd the horror\\nWhen we wonder why we bother\\nAnd the terror and the horror\\nGod, I wonder why we bother\\nAll the glamour and the trauma and the fuckin'\\nMelodrama\\n\\nAll the gun fights\\nAnd the lime lights\\nAnd the holy sick divine nights\\nThey\\u2019ll talk about us, all the lovers\\nHow we kiss and kill each other\\nThey\\u2019ll talk about us, and discover\\nHow we kissed and killed each other\\n\\nWe told you this was melodrama\\nYou wanted something that we offer\\n\\n\",\n",
       " u'Supercut': u\"\\n\\n[Verse 1]\\nIn my head, I play a supercut of us\\nAll the magic we gave off\\nAll the love we had and lost\\nAnd in my head\\nThe visions never stop\\nThese ribbons wrap me up\\nBut when I reach for you\\nThere's just a supercut\\n\\n[Pre-Chorus]\\nIn your car, the radio up\\nIn your car, the radio up\\nWe keep trying to talk about us\\nI'm someone you maybe might love\\nI\\u2019ll be your quiet afternoon crush\\nBe your violent overnight rush\\nMake you crazy over my touch\\n\\n[Chorus]\\nBut it's just a supercut of us\\nSupercut of us\\nOh it's just a supercut of us\\nSupercut of us\\n\\n[Verse 2]\\nSo I fall\\nInto continents and cars\\nAll the stages and the stars\\nI turn all of it\\nTo just a supercut\\n\\n[Refrain]\\n'Cause in my head (in my head, I do everything right)\\nWhen you call (when you call, I'll forgive and not fight)\\nBecause ours are the moments I play in the dark\\nWe were wild and fluorescent, come home to my heart, uh\\n\\n[Pre-Chorus]\\nIn your car, the radio up\\nIn your car, the radio up\\nWe keep trying to talk about us\\nI'm someone you maybe might love\\nI\\u2019ll be your quiet afternoon crush\\nBe your violent overnight rush\\nMake you crazy over my touch\\n\\n[Chorus]\\nBut it's just a supercut of us\\nSupercut of us\\nOh it's just a supercut of us\\nSupercut of us\\nBut it's just a supercut of us\\nSupercut of us\\nOh it's just a supercut of us\\nSupercut of us\\n\\n[Refrain]\\nIn my head, I do everything right\\nWhen you call, I'll forgive and not fight\\nAre the moments I play in the dark\\nAnd fluorescent, come home to my heart, uh\\n'Cause in my head (in my head, I do everything right)\\nWhen you call (when you call, I'll forgive and not fight)\\nBecause ours are the moments I play in the dark\\nWe were wild and fluorescent, come home to my heart, uh\\n'Cause in my head (in my head, I do everything right)\\nWhen you call (when you call, I'll forgive and not fight)\\nBecause ours are the moments I play in the dark\\nWe were wild and fluorescent, come home to my heart, uh\\nIn my head, I do everything right\\nIn my head, I do everything right\\n\\n\",\n",
       " u'The Louvre': u\"\\n\\n[Verse 1]\\nWell, summer slipped us underneath her tongue\\nOur days and nights are perfumed with obsession\\nHalf of my wardrobe is on your bedroom floor\\nUse our eyes, throw our hands overboard\\n\\n[Verse 2]\\nI am your sweetheart psychopathic crush\\nDrink up your movements, still I can't get enough\\nI overthink your punctuation use\\nNot my fault, just a thing that my mind do\\n\\n[Pre-Chorus]\\nA rush at the beginning\\nI get caught up, just for a minute\\nBut lover, you're the one to blame\\nAll that you\\u2019re doing\\nCan you hear the violence?\\nMegaphone to my chest\\nBroadcast the boom, boom, boom, boom\\nAnd make 'em all dance to it\\n\\n[Chorus]\\nBroadcast the boom, boom, boom, boom\\nAnd make 'em all dance to it\\nBroadcast the boom, boom, boom, boom\\nAnd make 'em all dance to it\\nBroadcast the boom, boom, boom, boom\\nAnd make 'em all dance to it\\nBroadcast the boom, boom, boom, boom\\nAnd make 'em all dance to it\\n\\n[Verse 3]\\nOur thing progresses\\nI call and you come through\\nBlow all my friendships\\nTo sit in hell with you\\nBut we\\u2019re the greatest\\nThey\\u2019ll hang us in the Louvre\\nDown the back, but who cares\\u2014still the Louvre\\nOkay I know that you are not my type\\n(still I fall)\\nI\\u2019m just the sucker who let you fill her mind\\n(but what about love?)\\nNothing wrong with it\\nSupernatural\\nJust move in close to me, closer, you\\u2019ll feel it coasting\\n\\n[Pre-Chorus]\\nA rush at the beginning\\nI get caught up, just for a minute\\nBut lover, you're the one to blame\\nAll that you\\u2019re doing\\nCan you hear the violence?\\nMegaphone to my chest\\nBroadcast the boom, boom, boom, boom\\nAnd make 'em all dance to it\\n\\n[Chorus]\\nBroadcast the boom, boom, boom, boom\\nAnd make 'em all dance to it\\nBroadcast the boom, boom, boom, boom\\nAnd make 'em all dance to it\\nBroadcast the boom, boom, boom, boom\\nAnd make 'em all dance to it\\nBroadcast the boom, boom, boom, boom\\nAnd make 'em all dance to it\\n\\n\",\n",
       " u'Writer in the Dark': u\"\\n\\n[Verse 1]\\nBreak the news\\u2014you're walking out\\nTo be a good man for someone else\\nSorry I was never good like you\\nStood on my chest and kept me down\\nHated hearing my name on the lips of a crowd\\nDid my best to exist just for you\\n\\n[Pre-Chorus]\\nBet you rue the day you kissed a writer in the dark\\nBet you rue the day you kissed a writer in the dark\\nNow she's gonna play and sing and lock you in her heart\\nBet you rue the day you kissed a writer in the dark\\n\\n[Chorus]\\nI am my mother's child, I'll love you 'til my breathing stops\\nI'll love you 'til you call the cops on me\\nBut in our darkest hours, I stumbled on a secret power\\nI'll find a way to be without you, babe\\n\\n[Verse 2]\\nI still feel you, now and then\\nSlow like pseudo-ephedrine\\nWhen you see me, will you say I've changed?\\nI ride the subway, read the signs\\nI let the seasons change my mind\\nI love it here since I\\u2019ve stopped needing you\\n\\n[Pre-Chorus]\\nBet you rue the day you kissed a writer in the dark\\nBet you rue the day you kissed a writer in the dark\\nNow she's gonna play and sing and lock you in her heart\\nBet you rue the day you kissed a writer in the dark\\n\\n[Chorus]\\nI am my mother's child, I'll love you 'til my breathing stops\\nI'll love you 'til you call the cops on me\\nBut in our darkest hours, I stumbled on a secret power\\nI'll find a way to be without you, babe\\nI am my mother's child, I'll love you 'til my breathing stops\\nI'll love you 'til you call the cops on me\\nBut in our darkest hours, I stumbled on a secret power\\nI'll find a way to be without you, babe\\n\\n\"}"
      ]
     },
     "execution_count": 58,
     "metadata": {},
     "output_type": "execute_result"
    }
   ],
   "source": [
    "album_lyrics"
   ]
  },
  {
   "cell_type": "code",
   "execution_count": null,
   "metadata": {
    "collapsed": true
   },
   "outputs": [],
   "source": []
  }
 ],
 "metadata": {
  "kernelspec": {
   "display_name": "Python 2",
   "language": "python",
   "name": "python2"
  },
  "language_info": {
   "codemirror_mode": {
    "name": "ipython",
    "version": 2
   },
   "file_extension": ".py",
   "mimetype": "text/x-python",
   "name": "python",
   "nbconvert_exporter": "python",
   "pygments_lexer": "ipython2",
   "version": "2.7.13"
  }
 },
 "nbformat": 4,
 "nbformat_minor": 2
}
