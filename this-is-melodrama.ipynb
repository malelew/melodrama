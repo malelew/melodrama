{
 "cells": [
  {
   "cell_type": "markdown",
   "metadata": {},
   "source": [
    "# Lorde - Melodrama Project"
   ]
  },
  {
   "cell_type": "code",
   "execution_count": 41,
   "metadata": {
    "collapsed": true
   },
   "outputs": [],
   "source": [
    "import bearer\n",
    "import requests\n",
    "from bs4 import BeautifulSoup\n",
    "import os\n",
    "import sys\n",
    "import logging\n",
    "import pandas"
   ]
  },
  {
   "cell_type": "code",
   "execution_count": 2,
   "metadata": {
    "collapsed": true
   },
   "outputs": [],
   "source": [
    "# setup debug logging\n",
    "logging.basicConfig(level=logging.WARN)\n",
    "logger = logging.getLogger(__name__)\n",
    "logger.setLevel(logging.INFO)"
   ]
  },
  {
   "cell_type": "code",
   "execution_count": 3,
   "metadata": {
    "collapsed": true
   },
   "outputs": [],
   "source": [
    "base_url = \"https://api.genius.com\"\n",
    "headers = {'Authorization': bearer.TOKEN}"
   ]
  },
  {
   "cell_type": "code",
   "execution_count": 4,
   "metadata": {
    "collapsed": true
   },
   "outputs": [],
   "source": [
    "def lyrics_from_song_api_path(song_api_path):\n",
    "  song_url = base_url + song_api_path\n",
    "  response = requests.get(song_url, headers=headers)\n",
    "  json = response.json()\n",
    "  path = json[\"response\"][\"song\"][\"path\"]\n",
    "  #gotta go regular html scraping... come on Genius\n",
    "  page_url = \"http://genius.com\" + path\n",
    "  page = requests.get(page_url)\n",
    "  html = BeautifulSoup(page.text, \"html.parser\")\n",
    "  #remove script tags that they put in the middle of the lyrics\n",
    "  [h.extract() for h in html('script')]\n",
    "  #at least Genius is nice and has a tag called 'lyrics'!\n",
    "  lyrics = html.find(\"div\", class_='lyrics').get_text() #updated css where the lyrics are based in HTML\n",
    "  return lyrics"
   ]
  },
  {
   "cell_type": "code",
   "execution_count": 5,
   "metadata": {
    "collapsed": true
   },
   "outputs": [],
   "source": [
    "album_url = 'https://genius.com/albums/Lorde/Melodrama'\n",
    "artist_name = 'Lorde'"
   ]
  },
  {
   "cell_type": "code",
   "execution_count": 6,
   "metadata": {},
   "outputs": [],
   "source": [
    "# get the page source for the album\n",
    "page = requests.get(album_url)\n",
    "# init a Beautiful Soup obj of the page source\n",
    "track_soup = BeautifulSoup(page.text, 'lxml')\n",
    "\n",
    "# find all of the page elements that contain album track information \n",
    "tracks = [i.get_text('*', strip=True) for i in track_soup.find_all('h3', class_='chart_row-content-title')]\n",
    "tracks = tracks[:len(tracks)-1]\n",
    "# loop through each track and strip out only the track name\n",
    "for i in range(len(tracks)):\n",
    "  tracks[i] = tracks[i].split('*')[0]"
   ]
  },
  {
   "cell_type": "code",
   "execution_count": 23,
   "metadata": {
    "collapsed": true
   },
   "outputs": [],
   "source": [
    "# this cell obtains the entire corpus of album lyrics\n",
    "search_url = base_url + \"/search\"\n",
    "# dict with track name keys and lyric string values\n",
    "album_lyrics = {}\n",
    "# for each track obtain the lyrics and store them into the dict\n",
    "for song_title in tracks:\n",
    "  data = {'q': song_title}\n",
    "  response = requests.get(search_url, data=data, headers=headers)\n",
    "  json = response.json()\n",
    "  song_info = None\n",
    "  for hit in json[\"response\"][\"hits\"]:\n",
    "    if hit[\"result\"][\"primary_artist\"][\"name\"] == artist_name:\n",
    "      song_info = hit\n",
    "      break\n",
    "  if song_info:\n",
    "    song_api_path = song_info[\"result\"][\"api_path\"]\n",
    "    album_lyrics[song_title] = lyrics_from_song_api_path(song_api_path)"
   ]
  },
  {
   "cell_type": "code",
   "execution_count": 24,
   "metadata": {
    "collapsed": true
   },
   "outputs": [],
   "source": [
    "# This is will create a local instance of the PyDictionary class and now it can be used to get meanings, translations etc.\n",
    "from PyDictionary import PyDictionary\n",
    "dictionary=PyDictionary()"
   ]
  },
  {
   "cell_type": "code",
   "execution_count": 25,
   "metadata": {
    "collapsed": true
   },
   "outputs": [],
   "source": [
    "# create a working dict of lyrics to be passed into a dataframe object\n",
    "lyric_dict = {}"
   ]
  },
  {
   "cell_type": "code",
   "execution_count": 26,
   "metadata": {},
   "outputs": [],
   "source": [
    "# convert the large strings into a list of the lyrics\n",
    "for i in album_lyrics.keys():\n",
    "  album_lyrics[i] = album_lyrics[i].split()"
   ]
  },
  {
   "cell_type": "code",
   "execution_count": 43,
   "metadata": {},
   "outputs": [
    {
     "name": "stderr",
     "output_type": "stream",
     "text": [
      "INFO:__main__:current song: Green Light\n",
      "INFO:__main__:{u'bars': [u'Verb', ['prevent from entering; keep out', 'render unsuitable for passage', 'expel, as if by official decree', 'secure with, or as if with, bars']], u'love': [u'Verb', ['have a great affection or liking for', 'get pleasure from', 'be enamored or in love with', 'have sexual intercourse with']], u'danced': [u'Verb', ['move in a graceful and rhythmical way', 'move in a pattern; usually to musical accompaniment; do or perform a dance', 'skip, leap, or move up and down or sideways']], u'just': [u'Adjective', ['used especially of what is legally or ethically right or proper or fitting', 'fair to all parties as dictated by reason and conscience', 'free from favoritism or self-interest or bias or deception; conforming with established standards or rules', 'of moral excellence']], u'be': [u'Verb', ['have the quality of being; (copula, used with an adjective or a predicate noun', 'be identical to; be someone or something', 'occupy a certain position or area; be somewhere', 'have an existence, be extant', 'happen, occur, take place', 'be identical or equivalent to', 'form or compose', 'work in a specific place, with a specific subject, or in a specific function', 'represent, as of a character on stage', 'spend or use time', 'have life, be alive', 'to remain unmolested, undisturbed, or uninterrupted -- used only in infinitive form', 'be priced at']], u'frighten': [u'Verb', ['cause fear in']], u'bedroom': [u'Noun', ['a room used primarily for sleeping']], u'mind': [u'Verb', ['be offended or bothered by; take offense with, be bothered by', 'be concerned with or about something or somebody', 'be in charge of or deal with', 'pay close attention to; give heed to', \"be on one's guard; be cautious or wary about; be alert to\", 'keep in mind']], u'it': [u'Noun', ['the branch of engineering that deals with the use of computers and telecommunications to retrieve and store and transmit information']], u'light': [u'Adjective', ['of comparatively little physical weight or density', '(used of color', 'of the military or industry; using (or being', 'not great in degree or quantity or number', 'psychologically light; especially free from sadness or troubles', 'characterized by or emitting light', '(used of vowels or syllables', 'easily assimilated in the alimentary canal; not rich or heavily seasoned', '(used of soil', '(of sound or color', 'moving easily and quickly; nimble', 'demanding little effort; not burdensome', 'of little intensity or power or force', '(physics, chemistry', 'weak and likely to lose consciousness', 'very thin and insubstantial', 'marked by temperance in indulgence', 'less than the correct or legal or full amount often deliberately so', 'having little importance', 'intended primarily as entertainment; not serious or profound', 'silly or trivial', 'designed for ease of movement or to carry little weight', 'having relatively few calories', 'or lite', 'or light', '(of sleep', 'casual and unrestrained in sexual behavior', 'or light']], u'honey': [u'Adjective', ['of something having the color of honey']], u'Brand': [u'Verb', ['burn with a branding iron to indicate ownership; of animals', 'to accuse or condemn or openly or formally or brand as disgraceful', 'mark with a brand or trademark', 'mark or expose as infamous']], u'at': [u'Noun', ['a highly unstable radioactive element (the heaviest of the halogen series', '100 at equal 1 kip in Laos']], u'have': [u'Verb', ['have or possess, either in a concrete or an abstract sense', 'have as a feature', 'go through (mental or physical states or experiences', 'have ownership or possession of', 'cause to move; cause to be in a certain position or condition', 'serve oneself to, or consume regularly', 'have a personal or business relationship with someone', 'organize or be responsible for', 'have left', 'be confronted with', 'undergo', 'suffer from; be ill with', 'cause to do; cause to act in a specified manner', 'receive willingly something given or offered', 'get something; come into possession of', 'undergo (as of injuries and illnesses', 'achieve a point or goal', 'cause to be born', 'have sex with; archaic use']], u'in': [u'Adjective', ['holding office', 'directed or bound inward', 'currently fashionable']], u'go': [u'Adjective', ['functioning correctly and ready for action']], u'liar': [u'Noun', ['a person who has lied or who lies repeatedly']], u'sounds': [u'Verb', ['appear in a certain way', 'make a certain noise or sound', 'give off a certain sound or sounds', 'announce by means of a sound', 'utter with vibrating vocal chords', 'cause to sound', 'measure the depth of (a body of water']], u'kissed': [u'Verb', [\"touch with the lips or press the lips (against someone's mouth or other body part\", 'touch lightly or gently']], u'thinks': [u'Verb', ['judge or regard; look upon; judge', 'expect, believe, or suppose', \"use or exercise the mind or one's power of reason in order to make inferences, decisions, or arrive at a solution or judgments\", 'recall knowledge from memory; have a recollection', 'imagine or visualize', \"focus one's attention on a certain state\", 'have in mind as a purpose', 'decide by pondering, reasoning, or reflecting', 'ponder; reflect on, or reason about', 'dispose the mind in a certain way', 'have or formulate in the mind', 'be capable of conscious thought', 'bring into a given condition by mental preoccupation']], u'Hope': [u'Verb', ['expect and wish', 'be optimistic; be full of hope; have hopes', 'intend with some possibility of fulfilment']], u'drinks': [u'Verb', ['take in liquids', 'consume alcohol', 'propose a toast to', 'be fascinated or spell-bound by; pay close attention to', 'drink excessive amounts of alcohol; be an alcoholic']], u'city': [u'Noun', ['a large and densely populated urban area; may include several independent administrative districts', 'an incorporated administrative district established by state charter', 'people living in a large densely populated municipality']], u'different': [u'Adjective', ['unlike in nature or quality or form or degree', 'distinctly separate from the first', 'or different', 'differing from all others; not ordinary', 'distinct or separate']], u'said': [u'Adjective', ['being the one previously mentioned or spoken of']], u'let': [u'Verb', ['make it possible through a specific action or lack of action for something to happen', 'actively cause something to happen', 'consent to, give permission', 'cause to move; cause to be in a certain position or condition', 'leave unchanged', 'grant use or occupation of under a term of contract']], u'want': [u'Verb', ['feel or have a desire for; want strongly', 'have need of', 'hunt or look for; want for a particular reason', 'wish or demand the presence of', 'be without, lack; be deficient in']], u'no': [u'Adjective', ['(quantifier']], u'down': [u'Adjective', ['being or moving lower in position or less in some value', 'extending or moving from a higher to a lower place', 'becoming progressively lower', 'being put out by a strikeout', 'understood perfectly', 'lower than previously', 'not functioning (temporarily or permanently', 'filled with melancholy and despondency']], u'things': [u'Noun', ['a special situation', 'an action', 'a special abstraction', 'an artifact', 'an event', 'a vaguely specified concern', 'a statement regarded as an object', 'an entity that is not named specifically', 'any attribute or quality considered as having its own existence', 'a special objective', 'a persistent illogical feeling of desire or aversion', 'a separate and self-contained entity', 'any movable possession (especially articles of clothing']], u'bite': [u'Verb', ['to grip, cut off, or tear with or as if with the teeth or jaws', 'cause a sharp or stinging pain or discomfort', 'penetrate or cut, as with a knife', 'deliver a sting to']], u'same': [u'Adjective', ['same in identity', 'closely similar or comparable in kind or quality or quantity or degree', 'equal in amount or value', 'unchanged in character or nature']], u'Did': [u'Verb', ['engage in', 'carry out or perform an action', 'get (something', 'proceed or get along', 'give rise to; cause to happen or occur, not always intentionally', 'carry out or practice; as of jobs and professions', 'be sufficient; be adequate, either in quality or quantity', 'create or design, often in a certain way', 'behave in a certain manner; show a certain behavior; conduct or comport oneself', 'spend time in prison or in a labor camp', 'carry on or function', 'arrange attractively', 'travel or traverse (a distance']], u'waiting': [u'Adjective', ['being and remaining ready and available for use']], u'damn': [u'Adjective', ['used as expletives', 'or goddamn', 'expletives used informally as intensifiers', 'or blessed or darned or goddamned', 'or goddam or goddamned']], u'whisper': [u'Verb', ['speak softly; in a low voice']], u'new': [u'Adjective', ['not of long duration; having just (or relatively recently', 'original and of a kind not seen before', 'lacking training or experience', 'having no previous example or precedent or parallel', 'other than the former one(s', 'unaffected by use or exposure', 'in use after medieval times', 'used of a living language; being the current stage in its development', '(of crops']], u'sings': [u'Verb', ['deliver by singing', 'produce tones with the voice', 'to make melodious sounds', 'make a whining, ringing, or whistling sound', 'divulge confidential information or secrets']], u'more': [u'Adjective', [\"a quantifier that can be used with count nouns and is often preceded by `as' or `too' or `so' or `that'; amounting to a large but indefinite number\", \"(comparative of `much' used with mass nouns\", \"(comparative of `many' used with count nouns\", '(quantifier used with mass nouns']], u'back': [u'Adjective', ['related to or located at the back', 'located at or near the back of an animal', 'or hind', 'of an earlier date']], u'do': [u'Verb', ['engage in', 'carry out or perform an action', 'get (something', 'proceed or get along', 'give rise to; cause to happen or occur, not always intentionally', 'carry out or practice; as of jobs and professions', 'be sufficient; be adequate, either in quality or quantity', 'create or design, often in a certain way', 'behave in a certain manner; show a certain behavior; conduct or comport oneself', 'spend time in prison or in a labor camp', 'carry on or function', 'arrange attractively', 'travel or traverse (a distance']], u'Sometimes': [u'Adverb', ['on certain occasions or in certain cases but not always']], u'somebody': [u'Noun', ['a human being']], u'get': [u'Verb', ['come into the possession of something concrete or abstract', 'enter or assume a certain state or condition', 'cause to move; cause to be in a certain position or condition', 'receive a specified treatment (abstract', 'reach a destination; arrive by movement or progress', 'go or come after and bring or take back', 'go through (mental or physical states or experiences', 'take vengeance on or get even', 'achieve a point or goal', 'cause to do; cause to act in a specified manner', 'succeed in catching or seizing, especially after a chase', 'come to have or undergo a change of (physical features and attributes', 'be stricken by an illness, fall victim to an illness', 'communicate with a place or person; establish communication with, as if by telephone', 'give certain properties to something', 'move into a desired direction of discourse', 'grasp with the mind or develop an understanding of', 'attract and fix', 'reach with a blow or hit in a particular spot', 'reach by calculation', 'acquire as a result of some effort or action', 'purchase', 'perceive by hearing', 'suffer from the receipt of', 'receive as a retribution or punishment', 'leave immediately; used usually in the imperative form', 'reach and board', 'irritate', 'evoke an emotional response', 'apprehend and reproduce accurately', 'earn or achieve a base by being walked by the pitcher', 'overcome or destroy', 'be a mystery or bewildering to', 'take the first step or steps in carrying out an action', 'undergo (as of injuries and illnesses', 'make (offspring']], u'I': [u'Adjective', ['used of a single unit or thing; not two or more']], u'big': [u'Adjective', ['above average in size or number or quantity or magnitude or extent', 'or large', 'significant', 'very intense', 'or bad', 'loud and firm', 'conspicuous in position or importance', 'prodigious', 'exhibiting self-importance', 'feeling self-importance', '(of animals', 'marked by intense physical force', 'generous and understanding and tolerant', 'given or giving freely', 'in an advanced stage of pregnancy']], u'makeup': [u'Noun', ['cosmetics applied to the face to improve or change your appearance', 'an event that is substituted for a previously cancelled event', 'the way in which someone or something is composed']], u'Well': [u'Adjective', ['in good health especially after having suffered illness or injury', 'resulting favorably', 'wise or advantageous and hence advisable']], u'great': [u'Adjective', ['relatively large in size or number or extent; larger than others of its kind', 'of major significance or importance', 'remarkable or out of the ordinary in degree or magnitude or effect', 'very good', 'uppercase', 'in an advanced stage of pregnancy']], u'but': [u'Adverb', ['and nothing more']], u'wish': [u'Verb', ['hope for; have a wish', 'prefer or wish to do something', 'make or express a wish', 'feel or express a desire or hope concerning the future or fortune of', 'order politely; express a wish for', 'invoke upon']], u'Thought': [u'Verb', ['judge or regard; look upon; judge', 'expect, believe, or suppose', \"use or exercise the mind or one's power of reason in order to make inferences, decisions, or arrive at a solution or judgments\", 'recall knowledge from memory; have a recollection', 'imagine or visualize', \"focus one's attention on a certain state\", 'have in mind as a purpose', 'decide by pondering, reasoning, or reflecting', 'ponder; reflect on, or reason about', 'dispose the mind in a certain way', 'have or formulate in the mind', 'be capable of conscious thought', 'bring into a given condition by mental preoccupation']], u'But': [u'Adverb', ['and nothing more']], u'hear': [u'Verb', ['perceive (sound', 'get to know or become aware of, usually accidentally', 'examine or hear (evidence or a case', 'receive a communication from someone', 'listen and pay attention']], u'know': [u'Verb', ['be cognizant or aware of a fact or a specific piece of information; possess knowledge or information about', 'know how to do or perform something', 'be aware of the truth of something; have a belief or faith in something; regard as true beyond any doubt', 'be familiar or acquainted with a person or an object', 'have firsthand knowledge of states, situations, emotions, or sensations', 'accept (someone', 'have fixed in the mind', 'have sexual intercourse with', 'know the nature or character of', 'be able to distinguish, recognize as being different', 'perceive as familiar']], u'On': [u'Adjective', ['in operation or operational', '(of events']], u'not': [u'Adverb', ['negation of a word or group of words']], u'such': [u'Adjective', ['of so extreme a degree or extent']], u'come': [u'Verb', ['move toward, travel toward something or somebody or approach something or somebody', 'reach a destination; arrive by movement or progress', 'come to pass; arrive, as in due course', 'reach or enter a state, relation, condition, use, or position', 'to be the product or result', 'be found or available', 'come forth', 'be a native of', 'extend or reach', 'exist or occur in a certain point in a series', 'cover a certain distance', 'come under, be classified or included', 'happen as a result', 'add up in number or quantity', 'develop into', 'be received', \"come to one's mind; suggest itself\", 'come from; be connected by a relationship of blood, for example', 'proceed or get along', 'experience orgasm', 'have a certain priority']], u'a': [u'Noun', ['a metric unit of length equal to one ten billionth of a meter (or 0.0001 micron', 'any of several fat-soluble vitamins essential for normal vision; prevents night blindness or inflammation or dryness of the eyes', 'one of the four nucleotides used in building DNA; all four nucleotides have a common phosphate group and a sugar (ribose', '(biochemistry', \"the basic unit of electric current adopted under the Systeme International d'Unites\", 'the 1st letter of the Roman alphabet', 'the blood group whose red cells carry the A antigen']], u'on': [u'Adjective', ['in operation or operational', '(of events']], u'about': [u'Adjective', ['on the move']], u'always': [u'Adverb', ['at all times; all the time and on every occasion', 'without variation or change, in every case', 'without interruption', 'at any time or in any event', 'forever; throughout all time']], u'did': [u'Verb', ['engage in', 'carry out or perform an action', 'get (something', 'proceed or get along', 'give rise to; cause to happen or occur, not always intentionally', 'carry out or practice; as of jobs and professions', 'be sufficient; be adequate, either in quality or quantity', 'create or design, often in a certain way', 'behave in a certain manner; show a certain behavior; conduct or comport oneself', 'spend time in prison or in a labor camp', 'carry on or function', 'arrange attractively', 'travel or traverse (a distance']], u'car': [u'Noun', ['a motor vehicle with four wheels; usually propelled by an internal combustion engine', 'a wheeled vehicle adapted to the rails of railroad', 'the compartment that is suspended from an airship and that carries personnel and the cargo and the power plant', 'where passengers ride up and down', 'a conveyance for passengers or freight on a cable railway']], u'floor': [u'Verb', [\"surprise greatly; knock someone's socks off\", 'knock down with force']], u'wherever': [u'Adverb', ['where in the world']], u'up': [u'Adjective', ['being or moving higher in position or greater in some value; being above a former position or level', 'out of bed', 'getting higher or more vigorous', 'extending or moving toward a higher place', \"(usually followed by `on' or `for'\", '(used of computers', 'used up']], u'order': [u'Verb', ['give instructions to or direct somebody to do something with authority', 'make a request for something', 'issue commands or orders for', 'bring into conformity with rules or principles or usage; impose regulations', 'bring order to or into', 'place in a certain order', 'appoint to a clerical posts', 'arrange thoughts, ideas, temporal events', 'assign a rank or rating to']], u'green': [u'Adjective', ['of the color between blue and yellow in the color spectrum; similar to the color of fresh grass', 'concerned with or supporting or in conformity with the political principles of the Green Party', 'not fully developed or mature; not ripe', 'looking pale and unhealthy', 'naive and easily deceived or tricked']], u'truth': [u'Noun', ['a fact that has been verified', 'conformity to reality or actuality', 'a true statement', 'the quality of being near to the true value', 'United States abolitionist and feminist who was freed from slavery and became a leading advocate of the abolition of slavery and for the rights of women (1797-1883']], u'teeth': [u'Noun', ['the kind and number and arrangement of teeth (collectively', 'hard bonelike structures in the jaws of vertebrates; used for biting and chewing or for attack and defense', 'something resembling the tooth of an animal', 'toothlike structure in invertebrates found in the mouth or alimentary canal or on a shell', 'a means of enforcement', 'one of a number of uniform projections on a gear']], u'every': [u'Adjective', ['(used of count nouns', 'each and all of a series of entities or intervals as specified']], u'wake': [u'Verb', ['be awake, be alert, be there', 'stop sleeping', 'arouse or excite feelings and passions', 'make aware of', 'cause to become awake or conscious']], u'scream': [u'Verb', ['utter a sudden loud cry', 'utter or declare in a very loud voice', 'make a loud, piercing sound']], u'road': [u'Noun', ['an open way (generally public', 'a way or means to achieve something']]}\n"
     ]
    },
    {
     "name": "stderr",
     "output_type": "stream",
     "text": [
      "INFO:__main__:current song: Sober\n"
     ]
    },
    {
     "ename": "KeyboardInterrupt",
     "evalue": "",
     "output_type": "error",
     "traceback": [
      "\u001b[0;31m---------------------------------------------------------------------------\u001b[0m",
      "\u001b[0;31mKeyboardInterrupt\u001b[0m                         Traceback (most recent call last)",
      "\u001b[0;32m<ipython-input-43-6778a5f0a623>\u001b[0m in \u001b[0;36m<module>\u001b[0;34m()\u001b[0m\n\u001b[1;32m      6\u001b[0m   \u001b[0mlogger\u001b[0m\u001b[0;34m.\u001b[0m\u001b[0minfo\u001b[0m\u001b[0;34m(\u001b[0m\u001b[0;34m'current song: %s'\u001b[0m \u001b[0;34m%\u001b[0m \u001b[0mtrack\u001b[0m\u001b[0;34m)\u001b[0m\u001b[0;34m\u001b[0m\u001b[0m\n\u001b[1;32m      7\u001b[0m   \u001b[0;32mfor\u001b[0m \u001b[0mlyric\u001b[0m \u001b[0;32min\u001b[0m \u001b[0malbum_lyrics\u001b[0m\u001b[0;34m[\u001b[0m\u001b[0mtrack\u001b[0m\u001b[0;34m]\u001b[0m\u001b[0;34m:\u001b[0m\u001b[0;34m\u001b[0m\u001b[0m\n\u001b[0;32m----> 8\u001b[0;31m     \u001b[0mresult\u001b[0m \u001b[0;34m=\u001b[0m \u001b[0mdictionary\u001b[0m\u001b[0;34m.\u001b[0m\u001b[0mmeaning\u001b[0m\u001b[0;34m(\u001b[0m\u001b[0mlyric\u001b[0m\u001b[0;34m)\u001b[0m\u001b[0;34m\u001b[0m\u001b[0m\n\u001b[0m\u001b[1;32m      9\u001b[0m     \u001b[0;32mif\u001b[0m \u001b[0;34m(\u001b[0m\u001b[0mtype\u001b[0m\u001b[0;34m(\u001b[0m\u001b[0mresult\u001b[0m\u001b[0;34m)\u001b[0m \u001b[0;34m==\u001b[0m \u001b[0mdict\u001b[0m\u001b[0;34m)\u001b[0m\u001b[0;34m:\u001b[0m\u001b[0;34m\u001b[0m\u001b[0m\n\u001b[1;32m     10\u001b[0m       \u001b[0mpos\u001b[0m \u001b[0;34m=\u001b[0m \u001b[0mresult\u001b[0m\u001b[0;34m.\u001b[0m\u001b[0mkeys\u001b[0m\u001b[0;34m(\u001b[0m\u001b[0;34m)\u001b[0m\u001b[0;34m[\u001b[0m\u001b[0;36m0\u001b[0m\u001b[0;34m]\u001b[0m\u001b[0;34m\u001b[0m\u001b[0m\n",
      "\u001b[0;32m/usr/local/lib/python2.7/site-packages/PyDictionary/core.pyc\u001b[0m in \u001b[0;36mmeaning\u001b[0;34m(term)\u001b[0m\n\u001b[1;32m    120\u001b[0m             \u001b[0;32mtry\u001b[0m\u001b[0;34m:\u001b[0m\u001b[0;34m\u001b[0m\u001b[0m\n\u001b[1;32m    121\u001b[0m                 html = _get_soup_object(\"http://wordnetweb.princeton.edu/perl/webwn?s={0}\".format(\n\u001b[0;32m--> 122\u001b[0;31m                     term))\n\u001b[0m\u001b[1;32m    123\u001b[0m                 \u001b[0mtypes\u001b[0m \u001b[0;34m=\u001b[0m \u001b[0mhtml\u001b[0m\u001b[0;34m.\u001b[0m\u001b[0mfindAll\u001b[0m\u001b[0;34m(\u001b[0m\u001b[0;34m\"h3\"\u001b[0m\u001b[0;34m)\u001b[0m\u001b[0;34m\u001b[0m\u001b[0m\n\u001b[1;32m    124\u001b[0m                 \u001b[0mlength\u001b[0m \u001b[0;34m=\u001b[0m \u001b[0mlen\u001b[0m\u001b[0;34m(\u001b[0m\u001b[0mtypes\u001b[0m\u001b[0;34m)\u001b[0m\u001b[0;34m\u001b[0m\u001b[0m\n",
      "\u001b[0;32m/usr/local/lib/python2.7/site-packages/PyDictionary/utils.pyc\u001b[0m in \u001b[0;36m_get_soup_object\u001b[0;34m(url)\u001b[0m\n\u001b[1;32m      3\u001b[0m \u001b[0;34m\u001b[0m\u001b[0m\n\u001b[1;32m      4\u001b[0m \u001b[0;32mdef\u001b[0m \u001b[0m_get_soup_object\u001b[0m\u001b[0;34m(\u001b[0m\u001b[0murl\u001b[0m\u001b[0;34m)\u001b[0m\u001b[0;34m:\u001b[0m\u001b[0;34m\u001b[0m\u001b[0m\n\u001b[0;32m----> 5\u001b[0;31m         \u001b[0;32mreturn\u001b[0m \u001b[0mBeautifulSoup\u001b[0m\u001b[0;34m(\u001b[0m\u001b[0mrequests\u001b[0m\u001b[0;34m.\u001b[0m\u001b[0mget\u001b[0m\u001b[0;34m(\u001b[0m\u001b[0murl\u001b[0m\u001b[0;34m)\u001b[0m\u001b[0;34m.\u001b[0m\u001b[0mtext\u001b[0m\u001b[0;34m)\u001b[0m\u001b[0;34m\u001b[0m\u001b[0m\n\u001b[0m",
      "\u001b[0;32m/usr/local/lib/python2.7/site-packages/requests/api.pyc\u001b[0m in \u001b[0;36mget\u001b[0;34m(url, params, **kwargs)\u001b[0m\n\u001b[1;32m     70\u001b[0m \u001b[0;34m\u001b[0m\u001b[0m\n\u001b[1;32m     71\u001b[0m     \u001b[0mkwargs\u001b[0m\u001b[0;34m.\u001b[0m\u001b[0msetdefault\u001b[0m\u001b[0;34m(\u001b[0m\u001b[0;34m'allow_redirects'\u001b[0m\u001b[0;34m,\u001b[0m \u001b[0mTrue\u001b[0m\u001b[0;34m)\u001b[0m\u001b[0;34m\u001b[0m\u001b[0m\n\u001b[0;32m---> 72\u001b[0;31m     \u001b[0;32mreturn\u001b[0m \u001b[0mrequest\u001b[0m\u001b[0;34m(\u001b[0m\u001b[0;34m'get'\u001b[0m\u001b[0;34m,\u001b[0m \u001b[0murl\u001b[0m\u001b[0;34m,\u001b[0m \u001b[0mparams\u001b[0m\u001b[0;34m=\u001b[0m\u001b[0mparams\u001b[0m\u001b[0;34m,\u001b[0m \u001b[0;34m**\u001b[0m\u001b[0mkwargs\u001b[0m\u001b[0;34m)\u001b[0m\u001b[0;34m\u001b[0m\u001b[0m\n\u001b[0m\u001b[1;32m     73\u001b[0m \u001b[0;34m\u001b[0m\u001b[0m\n\u001b[1;32m     74\u001b[0m \u001b[0;34m\u001b[0m\u001b[0m\n",
      "\u001b[0;32m/usr/local/lib/python2.7/site-packages/requests/api.pyc\u001b[0m in \u001b[0;36mrequest\u001b[0;34m(method, url, **kwargs)\u001b[0m\n\u001b[1;32m     56\u001b[0m     \u001b[0;31m# cases, and look like a memory leak in others.\u001b[0m\u001b[0;34m\u001b[0m\u001b[0;34m\u001b[0m\u001b[0m\n\u001b[1;32m     57\u001b[0m     \u001b[0;32mwith\u001b[0m \u001b[0msessions\u001b[0m\u001b[0;34m.\u001b[0m\u001b[0mSession\u001b[0m\u001b[0;34m(\u001b[0m\u001b[0;34m)\u001b[0m \u001b[0;32mas\u001b[0m \u001b[0msession\u001b[0m\u001b[0;34m:\u001b[0m\u001b[0;34m\u001b[0m\u001b[0m\n\u001b[0;32m---> 58\u001b[0;31m         \u001b[0;32mreturn\u001b[0m \u001b[0msession\u001b[0m\u001b[0;34m.\u001b[0m\u001b[0mrequest\u001b[0m\u001b[0;34m(\u001b[0m\u001b[0mmethod\u001b[0m\u001b[0;34m=\u001b[0m\u001b[0mmethod\u001b[0m\u001b[0;34m,\u001b[0m \u001b[0murl\u001b[0m\u001b[0;34m=\u001b[0m\u001b[0murl\u001b[0m\u001b[0;34m,\u001b[0m \u001b[0;34m**\u001b[0m\u001b[0mkwargs\u001b[0m\u001b[0;34m)\u001b[0m\u001b[0;34m\u001b[0m\u001b[0m\n\u001b[0m\u001b[1;32m     59\u001b[0m \u001b[0;34m\u001b[0m\u001b[0m\n\u001b[1;32m     60\u001b[0m \u001b[0;34m\u001b[0m\u001b[0m\n",
      "\u001b[0;32m/usr/local/lib/python2.7/site-packages/requests/sessions.pyc\u001b[0m in \u001b[0;36mrequest\u001b[0;34m(self, method, url, params, data, headers, cookies, files, auth, timeout, allow_redirects, proxies, hooks, stream, verify, cert, json)\u001b[0m\n\u001b[1;32m    500\u001b[0m         }\n\u001b[1;32m    501\u001b[0m         \u001b[0msend_kwargs\u001b[0m\u001b[0;34m.\u001b[0m\u001b[0mupdate\u001b[0m\u001b[0;34m(\u001b[0m\u001b[0msettings\u001b[0m\u001b[0;34m)\u001b[0m\u001b[0;34m\u001b[0m\u001b[0m\n\u001b[0;32m--> 502\u001b[0;31m         \u001b[0mresp\u001b[0m \u001b[0;34m=\u001b[0m \u001b[0mself\u001b[0m\u001b[0;34m.\u001b[0m\u001b[0msend\u001b[0m\u001b[0;34m(\u001b[0m\u001b[0mprep\u001b[0m\u001b[0;34m,\u001b[0m \u001b[0;34m**\u001b[0m\u001b[0msend_kwargs\u001b[0m\u001b[0;34m)\u001b[0m\u001b[0;34m\u001b[0m\u001b[0m\n\u001b[0m\u001b[1;32m    503\u001b[0m \u001b[0;34m\u001b[0m\u001b[0m\n\u001b[1;32m    504\u001b[0m         \u001b[0;32mreturn\u001b[0m \u001b[0mresp\u001b[0m\u001b[0;34m\u001b[0m\u001b[0m\n",
      "\u001b[0;32m/usr/local/lib/python2.7/site-packages/requests/sessions.pyc\u001b[0m in \u001b[0;36msend\u001b[0;34m(self, request, **kwargs)\u001b[0m\n\u001b[1;32m    610\u001b[0m \u001b[0;34m\u001b[0m\u001b[0m\n\u001b[1;32m    611\u001b[0m         \u001b[0;31m# Send the request\u001b[0m\u001b[0;34m\u001b[0m\u001b[0;34m\u001b[0m\u001b[0m\n\u001b[0;32m--> 612\u001b[0;31m         \u001b[0mr\u001b[0m \u001b[0;34m=\u001b[0m \u001b[0madapter\u001b[0m\u001b[0;34m.\u001b[0m\u001b[0msend\u001b[0m\u001b[0;34m(\u001b[0m\u001b[0mrequest\u001b[0m\u001b[0;34m,\u001b[0m \u001b[0;34m**\u001b[0m\u001b[0mkwargs\u001b[0m\u001b[0;34m)\u001b[0m\u001b[0;34m\u001b[0m\u001b[0m\n\u001b[0m\u001b[1;32m    613\u001b[0m \u001b[0;34m\u001b[0m\u001b[0m\n\u001b[1;32m    614\u001b[0m         \u001b[0;31m# Total elapsed time of the request (approximately)\u001b[0m\u001b[0;34m\u001b[0m\u001b[0;34m\u001b[0m\u001b[0m\n",
      "\u001b[0;32m/usr/local/lib/python2.7/site-packages/requests/adapters.pyc\u001b[0m in \u001b[0;36msend\u001b[0;34m(self, request, stream, timeout, verify, cert, proxies)\u001b[0m\n\u001b[1;32m    438\u001b[0m                     \u001b[0mdecode_content\u001b[0m\u001b[0;34m=\u001b[0m\u001b[0mFalse\u001b[0m\u001b[0;34m,\u001b[0m\u001b[0;34m\u001b[0m\u001b[0m\n\u001b[1;32m    439\u001b[0m                     \u001b[0mretries\u001b[0m\u001b[0;34m=\u001b[0m\u001b[0mself\u001b[0m\u001b[0;34m.\u001b[0m\u001b[0mmax_retries\u001b[0m\u001b[0;34m,\u001b[0m\u001b[0;34m\u001b[0m\u001b[0m\n\u001b[0;32m--> 440\u001b[0;31m                     \u001b[0mtimeout\u001b[0m\u001b[0;34m=\u001b[0m\u001b[0mtimeout\u001b[0m\u001b[0;34m\u001b[0m\u001b[0m\n\u001b[0m\u001b[1;32m    441\u001b[0m                 )\n\u001b[1;32m    442\u001b[0m \u001b[0;34m\u001b[0m\u001b[0m\n",
      "\u001b[0;32m/usr/local/lib/python2.7/site-packages/urllib3/connectionpool.pyc\u001b[0m in \u001b[0;36murlopen\u001b[0;34m(self, method, url, body, headers, retries, redirect, assert_same_host, timeout, pool_timeout, release_conn, chunked, body_pos, **response_kw)\u001b[0m\n\u001b[1;32m    598\u001b[0m                                                   \u001b[0mtimeout\u001b[0m\u001b[0;34m=\u001b[0m\u001b[0mtimeout_obj\u001b[0m\u001b[0;34m,\u001b[0m\u001b[0;34m\u001b[0m\u001b[0m\n\u001b[1;32m    599\u001b[0m                                                   \u001b[0mbody\u001b[0m\u001b[0;34m=\u001b[0m\u001b[0mbody\u001b[0m\u001b[0;34m,\u001b[0m \u001b[0mheaders\u001b[0m\u001b[0;34m=\u001b[0m\u001b[0mheaders\u001b[0m\u001b[0;34m,\u001b[0m\u001b[0;34m\u001b[0m\u001b[0m\n\u001b[0;32m--> 600\u001b[0;31m                                                   chunked=chunked)\n\u001b[0m\u001b[1;32m    601\u001b[0m \u001b[0;34m\u001b[0m\u001b[0m\n\u001b[1;32m    602\u001b[0m             \u001b[0;31m# If we're going to release the connection in ``finally:``, then\u001b[0m\u001b[0;34m\u001b[0m\u001b[0;34m\u001b[0m\u001b[0m\n",
      "\u001b[0;32m/usr/local/lib/python2.7/site-packages/urllib3/connectionpool.pyc\u001b[0m in \u001b[0;36m_make_request\u001b[0;34m(self, conn, method, url, timeout, chunked, **httplib_request_kw)\u001b[0m\n\u001b[1;32m    377\u001b[0m         \u001b[0;32mtry\u001b[0m\u001b[0;34m:\u001b[0m\u001b[0;34m\u001b[0m\u001b[0m\n\u001b[1;32m    378\u001b[0m             \u001b[0;32mtry\u001b[0m\u001b[0;34m:\u001b[0m  \u001b[0;31m# Python 2.7, use buffering of HTTP responses\u001b[0m\u001b[0;34m\u001b[0m\u001b[0m\n\u001b[0;32m--> 379\u001b[0;31m                 \u001b[0mhttplib_response\u001b[0m \u001b[0;34m=\u001b[0m \u001b[0mconn\u001b[0m\u001b[0;34m.\u001b[0m\u001b[0mgetresponse\u001b[0m\u001b[0;34m(\u001b[0m\u001b[0mbuffering\u001b[0m\u001b[0;34m=\u001b[0m\u001b[0mTrue\u001b[0m\u001b[0;34m)\u001b[0m\u001b[0;34m\u001b[0m\u001b[0m\n\u001b[0m\u001b[1;32m    380\u001b[0m             \u001b[0;32mexcept\u001b[0m \u001b[0mTypeError\u001b[0m\u001b[0;34m:\u001b[0m  \u001b[0;31m# Python 2.6 and older, Python 3\u001b[0m\u001b[0;34m\u001b[0m\u001b[0m\n\u001b[1;32m    381\u001b[0m                 \u001b[0;32mtry\u001b[0m\u001b[0;34m:\u001b[0m\u001b[0;34m\u001b[0m\u001b[0m\n",
      "\u001b[0;32m/usr/local/Cellar/python/2.7.13/Frameworks/Python.framework/Versions/2.7/lib/python2.7/httplib.pyc\u001b[0m in \u001b[0;36mgetresponse\u001b[0;34m(self, buffering)\u001b[0m\n\u001b[1;32m   1119\u001b[0m \u001b[0;34m\u001b[0m\u001b[0m\n\u001b[1;32m   1120\u001b[0m         \u001b[0;32mtry\u001b[0m\u001b[0;34m:\u001b[0m\u001b[0;34m\u001b[0m\u001b[0m\n\u001b[0;32m-> 1121\u001b[0;31m             \u001b[0mresponse\u001b[0m\u001b[0;34m.\u001b[0m\u001b[0mbegin\u001b[0m\u001b[0;34m(\u001b[0m\u001b[0;34m)\u001b[0m\u001b[0;34m\u001b[0m\u001b[0m\n\u001b[0m\u001b[1;32m   1122\u001b[0m             \u001b[0;32massert\u001b[0m \u001b[0mresponse\u001b[0m\u001b[0;34m.\u001b[0m\u001b[0mwill_close\u001b[0m \u001b[0;34m!=\u001b[0m \u001b[0m_UNKNOWN\u001b[0m\u001b[0;34m\u001b[0m\u001b[0m\n\u001b[1;32m   1123\u001b[0m             \u001b[0mself\u001b[0m\u001b[0;34m.\u001b[0m\u001b[0m__state\u001b[0m \u001b[0;34m=\u001b[0m \u001b[0m_CS_IDLE\u001b[0m\u001b[0;34m\u001b[0m\u001b[0m\n",
      "\u001b[0;32m/usr/local/Cellar/python/2.7.13/Frameworks/Python.framework/Versions/2.7/lib/python2.7/httplib.pyc\u001b[0m in \u001b[0;36mbegin\u001b[0;34m(self)\u001b[0m\n\u001b[1;32m    436\u001b[0m         \u001b[0;31m# read until we get a non-100 response\u001b[0m\u001b[0;34m\u001b[0m\u001b[0;34m\u001b[0m\u001b[0m\n\u001b[1;32m    437\u001b[0m         \u001b[0;32mwhile\u001b[0m \u001b[0mTrue\u001b[0m\u001b[0;34m:\u001b[0m\u001b[0;34m\u001b[0m\u001b[0m\n\u001b[0;32m--> 438\u001b[0;31m             \u001b[0mversion\u001b[0m\u001b[0;34m,\u001b[0m \u001b[0mstatus\u001b[0m\u001b[0;34m,\u001b[0m \u001b[0mreason\u001b[0m \u001b[0;34m=\u001b[0m \u001b[0mself\u001b[0m\u001b[0;34m.\u001b[0m\u001b[0m_read_status\u001b[0m\u001b[0;34m(\u001b[0m\u001b[0;34m)\u001b[0m\u001b[0;34m\u001b[0m\u001b[0m\n\u001b[0m\u001b[1;32m    439\u001b[0m             \u001b[0;32mif\u001b[0m \u001b[0mstatus\u001b[0m \u001b[0;34m!=\u001b[0m \u001b[0mCONTINUE\u001b[0m\u001b[0;34m:\u001b[0m\u001b[0;34m\u001b[0m\u001b[0m\n\u001b[1;32m    440\u001b[0m                 \u001b[0;32mbreak\u001b[0m\u001b[0;34m\u001b[0m\u001b[0m\n",
      "\u001b[0;32m/usr/local/Cellar/python/2.7.13/Frameworks/Python.framework/Versions/2.7/lib/python2.7/httplib.pyc\u001b[0m in \u001b[0;36m_read_status\u001b[0;34m(self)\u001b[0m\n\u001b[1;32m    392\u001b[0m     \u001b[0;32mdef\u001b[0m \u001b[0m_read_status\u001b[0m\u001b[0;34m(\u001b[0m\u001b[0mself\u001b[0m\u001b[0;34m)\u001b[0m\u001b[0;34m:\u001b[0m\u001b[0;34m\u001b[0m\u001b[0m\n\u001b[1;32m    393\u001b[0m         \u001b[0;31m# Initialize with Simple-Response defaults\u001b[0m\u001b[0;34m\u001b[0m\u001b[0;34m\u001b[0m\u001b[0m\n\u001b[0;32m--> 394\u001b[0;31m         \u001b[0mline\u001b[0m \u001b[0;34m=\u001b[0m \u001b[0mself\u001b[0m\u001b[0;34m.\u001b[0m\u001b[0mfp\u001b[0m\u001b[0;34m.\u001b[0m\u001b[0mreadline\u001b[0m\u001b[0;34m(\u001b[0m\u001b[0m_MAXLINE\u001b[0m \u001b[0;34m+\u001b[0m \u001b[0;36m1\u001b[0m\u001b[0;34m)\u001b[0m\u001b[0;34m\u001b[0m\u001b[0m\n\u001b[0m\u001b[1;32m    395\u001b[0m         \u001b[0;32mif\u001b[0m \u001b[0mlen\u001b[0m\u001b[0;34m(\u001b[0m\u001b[0mline\u001b[0m\u001b[0;34m)\u001b[0m \u001b[0;34m>\u001b[0m \u001b[0m_MAXLINE\u001b[0m\u001b[0;34m:\u001b[0m\u001b[0;34m\u001b[0m\u001b[0m\n\u001b[1;32m    396\u001b[0m             \u001b[0;32mraise\u001b[0m \u001b[0mLineTooLong\u001b[0m\u001b[0;34m(\u001b[0m\u001b[0;34m\"header line\"\u001b[0m\u001b[0;34m)\u001b[0m\u001b[0;34m\u001b[0m\u001b[0m\n",
      "\u001b[0;32m/usr/local/Cellar/python/2.7.13/Frameworks/Python.framework/Versions/2.7/lib/python2.7/socket.pyc\u001b[0m in \u001b[0;36mreadline\u001b[0;34m(self, size)\u001b[0m\n\u001b[1;32m    478\u001b[0m             \u001b[0;32mwhile\u001b[0m \u001b[0mTrue\u001b[0m\u001b[0;34m:\u001b[0m\u001b[0;34m\u001b[0m\u001b[0m\n\u001b[1;32m    479\u001b[0m                 \u001b[0;32mtry\u001b[0m\u001b[0;34m:\u001b[0m\u001b[0;34m\u001b[0m\u001b[0m\n\u001b[0;32m--> 480\u001b[0;31m                     \u001b[0mdata\u001b[0m \u001b[0;34m=\u001b[0m \u001b[0mself\u001b[0m\u001b[0;34m.\u001b[0m\u001b[0m_sock\u001b[0m\u001b[0;34m.\u001b[0m\u001b[0mrecv\u001b[0m\u001b[0;34m(\u001b[0m\u001b[0mself\u001b[0m\u001b[0;34m.\u001b[0m\u001b[0m_rbufsize\u001b[0m\u001b[0;34m)\u001b[0m\u001b[0;34m\u001b[0m\u001b[0m\n\u001b[0m\u001b[1;32m    481\u001b[0m                 \u001b[0;32mexcept\u001b[0m \u001b[0merror\u001b[0m\u001b[0;34m,\u001b[0m \u001b[0me\u001b[0m\u001b[0;34m:\u001b[0m\u001b[0;34m\u001b[0m\u001b[0m\n\u001b[1;32m    482\u001b[0m                     \u001b[0;32mif\u001b[0m \u001b[0me\u001b[0m\u001b[0;34m.\u001b[0m\u001b[0margs\u001b[0m\u001b[0;34m[\u001b[0m\u001b[0;36m0\u001b[0m\u001b[0;34m]\u001b[0m \u001b[0;34m==\u001b[0m \u001b[0mEINTR\u001b[0m\u001b[0;34m:\u001b[0m\u001b[0;34m\u001b[0m\u001b[0m\n",
      "\u001b[0;31mKeyboardInterrupt\u001b[0m: "
     ]
    }
   ],
   "source": [
    "# filter by part of speech\n",
    "\n",
    "# block print out so pyDict don't slow down runtime\n",
    "#sys.stdout = open(os.devnull, 'w')\n",
    "for track in tracks:\n",
    "  logger.info('current song: %s' % track)\n",
    "  for lyric in album_lyrics[track]:\n",
    "    result = dictionary.meaning(lyric)\n",
    "    if (type(result) == dict):\n",
    "      pos = result.keys()[0]\n",
    "      definition = result[pos]\n",
    "      lyric_dict[lyric] = [pos, definition]\n",
    "  logger.info(lyric_dict)\n",
    "        \n",
    "      \n",
    "\n",
    "sys.stdout = sys.__stdout__\n",
    "logger.info('done')"
   ]
  },
  {
   "cell_type": "code",
   "execution_count": null,
   "metadata": {
    "collapsed": true
   },
   "outputs": [],
   "source": []
  }
 ],
 "metadata": {
  "kernelspec": {
   "display_name": "Python 2",
   "language": "python",
   "name": "python2"
  },
  "language_info": {
   "codemirror_mode": {
    "name": "ipython",
    "version": 2
   },
   "file_extension": ".py",
   "mimetype": "text/x-python",
   "name": "python",
   "nbconvert_exporter": "python",
   "pygments_lexer": "ipython2",
   "version": "2.7.13"
  }
 },
 "nbformat": 4,
 "nbformat_minor": 2
}
